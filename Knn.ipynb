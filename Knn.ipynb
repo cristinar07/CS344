{
 "cells": [
  {
   "cell_type": "code",
   "execution_count": null,
   "id": "bd27f76e-1c9b-4e0f-8e4f-f5ebf1f9c6f8",
   "metadata": {},
   "outputs": [],
   "source": [
    "import numpy as np\n",
    "import pandas as pd\n",
    "from sklearn.preprocessing import StandardScaler\n",
    "from sklearn.neighbors import KNeighborsClassifier\n",
    "from sklearn.metrics import accuracy_score, roc_auc_score, f1_score, average_precision_score\n",
    "\n",
    "# Load the data\n",
    "x_train = pd.read_csv('/Users/xingyuzhai/Desktop/CS 334 Final Project/CS344/X_train.csv')\n",
    "y_train = pd.read_csv('/Users/xingyuzhai/Desktop/CS 334 Final Project/CS344/y_train.csv')\n",
    "x_test = pd.read_csv('/Users/xingyuzhai/Desktop/CS 334 Final Project/CS344/X_test.csv')\n",
    "y_test = pd.read_csv('/Users/xingyuzhai/Desktop/CS 334 Final Project/CS344/y_test.csv')\n",
    "\n",
    "# Ensure labels are in the correct shape\n",
    "y_train = y_train.values.flatten()\n",
    "y_test = y_test.values.flatten()\n",
    "\n",
    "# Standardize the features\n",
    "scaler = StandardScaler()\n",
    "x_train_scaled = scaler.fit_transform(x_train)\n",
    "x_test_scaled = scaler.transform(x_test)\n",
    "\n",
    "def find_best_k(k_range):\n",
    "    best_accuracy = 0\n",
    "    best_k = 0\n",
    "    results = []\n",
    "\n",
    "    for k in k_range:\n",
    "        knn = KNeighborsClassifier(n_neighbors=k)\n",
    "        knn.fit(x_train_scaled, y_train)\n",
    "        y_pred = knn.predict(x_test_scaled)\n",
    "        y_prob = knn.predict_proba(x_test_scaled)\n",
    "\n",
    "        accuracy = accuracy_score(y_test, y_pred)\n",
    "        auc_score = roc_auc_score(y_test, y_prob, multi_class=\"ovr\")\n",
    "        f1 = f1_score(y_test, y_pred, average='weighted')  # Use 'weighted' for imbalanced classes\n",
    "\n",
    "        results.append((k, accuracy, auc_score, f1))\n",
    "        \n",
    "        if accuracy > best_accuracy:\n",
    "            best_accuracy = accuracy\n",
    "            best_k = k\n",
    "\n",
    "    return best_k, best_accuracy, results\n",
    "\n",
    "# Set the range of k\n",
    "k_range = range(5, 101)\n",
    "best_k, best_accuracy, results = find_best_k(k_range)\n",
    "\n",
    "# Print the results\n",
    "print(f\"Best K: {best_k} with Accuracy: {best_accuracy:.2f}\")\n",
    "for k, accuracy, auc_score, f1 in results:\n",
    "    print(f\"K={k}: Accuracy={accuracy:.3f}, AUC={auc_score:.3f}, F1 Score={f1:.3f}\")\n"
   ]
  }
 ],
 "metadata": {
  "kernelspec": {
   "display_name": "Python 3 (ipykernel)",
   "language": "python",
   "name": "python3"
  },
  "language_info": {
   "codemirror_mode": {
    "name": "ipython",
    "version": 3
   },
   "file_extension": ".py",
   "mimetype": "text/x-python",
   "name": "python",
   "nbconvert_exporter": "python",
   "pygments_lexer": "ipython3",
   "version": "3.11.7"
  }
 },
 "nbformat": 4,
 "nbformat_minor": 5
}
