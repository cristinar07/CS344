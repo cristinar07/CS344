{
 "cells": [
  {
   "cell_type": "code",
   "execution_count": 1,
   "id": "f3f62991-1103-4d55-bc07-0049a686aa08",
   "metadata": {},
   "outputs": [
    {
     "name": "stdout",
     "output_type": "stream",
     "text": [
      "K=3: Accuracy=0.932, AUC=0.975, F1 Score=0.932\n",
      "K=5: Accuracy=0.928, AUC=0.984, F1 Score=0.928\n",
      "K=10: Accuracy=0.916, AUC=0.989, F1 Score=0.916\n",
      "K=25: Accuracy=0.894, AUC=0.989, F1 Score=0.893\n",
      "K=50: Accuracy=0.869, AUC=0.986, F1 Score=0.868\n",
      "K=75: Accuracy=0.853, AUC=0.983, F1 Score=0.851\n",
      "K=100: Accuracy=0.842, AUC=0.981, F1 Score=0.839\n",
      "K=200: Accuracy=0.811, AUC=0.973, F1 Score=0.806\n"
     ]
    }
   ],
   "source": [
    "import numpy as np\n",
    "import pandas as pd\n",
    "from sklearn.preprocessing import StandardScaler\n",
    "from sklearn.neighbors import KNeighborsClassifier\n",
    "from sklearn.metrics import accuracy_score, roc_auc_score, f1_score\n",
    "\n",
    "# Load the data\n",
    "x_train = pd.read_csv('/Users/xingyuzhai/Desktop/CS 334 Final Project/CS344/X_train.csv')\n",
    "y_train = pd.read_csv('/Users/xingyuzhai/Desktop/CS 334 Final Project/CS344/y_train.csv')\n",
    "x_test = pd.read_csv('/Users/xingyuzhai/Desktop/CS 334 Final Project/CS344/X_test.csv')\n",
    "y_test = pd.read_csv('/Users/xingyuzhai/Desktop/CS 334 Final Project/CS344/y_test.csv')\n",
    "\n",
    "y_train = y_train.values.flatten()\n",
    "y_test = y_test.values.flatten()\n",
    "\n",
    "# Standardize the features\n",
    "scaler = StandardScaler()\n",
    "x_train_scaled = scaler.fit_transform(x_train)\n",
    "x_test_scaled = scaler.transform(x_test)\n",
    "\n",
    "k_values = [3, 5, 10, 25, 50, 75, 100, 200]\n",
    "\n",
    "def evaluate_knn(k_values):\n",
    "    for k in k_values:\n",
    "        knn = KNeighborsClassifier(n_neighbors=k)\n",
    "        knn.fit(x_train_scaled, y_train)\n",
    "        y_pred = knn.predict(x_test_scaled)\n",
    "        y_prob = knn.predict_proba(x_test_scaled)\n",
    "\n",
    "        accuracy = accuracy_score(y_test, y_pred)\n",
    "        auc_score = roc_auc_score(y_test, y_prob, multi_class=\"ovr\", average=\"macro\")\n",
    "        f1 = f1_score(y_test, y_pred, average='weighted')  # Use 'weighted' for imbalanced classes\n",
    "\n",
    "        print(f\"K={k}: Accuracy={accuracy:.3f}, AUC={auc_score:.3f}, F1 Score={f1:.3f}\")\n",
    "\n",
    "evaluate_knn(k_values)\n"
   ]
  }
 ],
 "metadata": {
  "kernelspec": {
   "display_name": "Python 3 (ipykernel)",
   "language": "python",
   "name": "python3"
  },
  "language_info": {
   "codemirror_mode": {
    "name": "ipython",
    "version": 3
   },
   "file_extension": ".py",
   "mimetype": "text/x-python",
   "name": "python",
   "nbconvert_exporter": "python",
   "pygments_lexer": "ipython3",
   "version": "3.11.7"
  }
 },
 "nbformat": 4,
 "nbformat_minor": 5
}
